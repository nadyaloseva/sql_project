{
 "cells": [
  {
   "cell_type": "markdown",
   "metadata": {},
   "source": [
    "# Проект по SQL\n",
    "\n",
    "Коронавирус застал мир врасплох, изменив привычный порядок вещей. В свободное время жители городов больше не выходят на улицу, не посещают кафе и торговые центры. Зато стало больше времени для книг. Это заметили стартаперы — и бросились создавать приложения для тех, кто любит читать.\n",
    "\n",
    "Ваша компания решила быть на волне и купила крупный сервис для чтения книг по подписке. Ваша первая задача как аналитика — проанализировать базу данных.\n",
    "В ней — информация о книгах, издательствах, авторах, а также пользовательские обзоры книг. Эти данные помогут сформулировать ценностное предложение для нового продукта.\n",
    "\n",
    "**Цель:** анализ базы данных о книгах, издательсвах, авторах и обзорах книг, для использования в сервисе для чтения книг."
   ]
  },
  {
   "cell_type": "code",
   "execution_count": 1,
   "metadata": {},
   "outputs": [],
   "source": [
    "# импортируем библиотеки\n",
    "import pandas as pd\n",
    "from sqlalchemy import text, create_engine"
   ]
  },
  {
   "cell_type": "code",
   "execution_count": 2,
   "metadata": {},
   "outputs": [],
   "source": [
    "# устанавливаем параметры\n",
    "db_config = {'user': 'praktikum_student', # имя пользователя\n",
    "'pwd': 'Sdf4$2;d-d30pp', # пароль\n",
    "'host': 'rc1b-wcoijxj3yxfsf3fs.mdb.yandexcloud.net',\n",
    "'port': 6432, # порт подключения\n",
    "'db': 'data-analyst-final-project-db'} # название базы данных\n",
    "\n",
    "connection_string = 'postgresql://{user}:{pwd}@{host}:{port}/{db}'.format(**db_config)\n",
    "\n",
    "# сохраняем коннектор\n",
    "engine = create_engine(connection_string, connect_args={'sslmode':'require'})"
   ]
  },
  {
   "cell_type": "markdown",
   "metadata": {},
   "source": [
    "## Исследование таблиц"
   ]
  },
  {
   "cell_type": "code",
   "execution_count": 3,
   "metadata": {},
   "outputs": [
    {
     "data": {
      "text/html": [
       "<div>\n",
       "<style scoped>\n",
       "    .dataframe tbody tr th:only-of-type {\n",
       "        vertical-align: middle;\n",
       "    }\n",
       "\n",
       "    .dataframe tbody tr th {\n",
       "        vertical-align: top;\n",
       "    }\n",
       "\n",
       "    .dataframe thead th {\n",
       "        text-align: right;\n",
       "    }\n",
       "</style>\n",
       "<table border=\"1\" class=\"dataframe\">\n",
       "  <thead>\n",
       "    <tr style=\"text-align: right;\">\n",
       "      <th></th>\n",
       "      <th>book_id</th>\n",
       "      <th>author_id</th>\n",
       "      <th>title</th>\n",
       "      <th>num_pages</th>\n",
       "      <th>publication_date</th>\n",
       "      <th>publisher_id</th>\n",
       "    </tr>\n",
       "  </thead>\n",
       "  <tbody>\n",
       "    <tr>\n",
       "      <th>0</th>\n",
       "      <td>1</td>\n",
       "      <td>546</td>\n",
       "      <td>'Salem's Lot</td>\n",
       "      <td>594</td>\n",
       "      <td>2005-11-01</td>\n",
       "      <td>93</td>\n",
       "    </tr>\n",
       "  </tbody>\n",
       "</table>\n",
       "</div>"
      ],
      "text/plain": [
       "   book_id  author_id         title  num_pages publication_date  publisher_id\n",
       "0        1        546  'Salem's Lot        594       2005-11-01            93"
      ]
     },
     "execution_count": 3,
     "metadata": {},
     "output_type": "execute_result"
    }
   ],
   "source": [
    "books = '''SELECT * FROM books LIMIT 1'''\n",
    "\n",
    "con=engine.connect()\n",
    "pd.io.sql.read_sql(sql=text(books), con = con)"
   ]
  },
  {
   "cell_type": "code",
   "execution_count": 4,
   "metadata": {},
   "outputs": [
    {
     "data": {
      "text/html": [
       "<div>\n",
       "<style scoped>\n",
       "    .dataframe tbody tr th:only-of-type {\n",
       "        vertical-align: middle;\n",
       "    }\n",
       "\n",
       "    .dataframe tbody tr th {\n",
       "        vertical-align: top;\n",
       "    }\n",
       "\n",
       "    .dataframe thead th {\n",
       "        text-align: right;\n",
       "    }\n",
       "</style>\n",
       "<table border=\"1\" class=\"dataframe\">\n",
       "  <thead>\n",
       "    <tr style=\"text-align: right;\">\n",
       "      <th></th>\n",
       "      <th>author_id</th>\n",
       "      <th>author</th>\n",
       "    </tr>\n",
       "  </thead>\n",
       "  <tbody>\n",
       "    <tr>\n",
       "      <th>0</th>\n",
       "      <td>1</td>\n",
       "      <td>A.S. Byatt</td>\n",
       "    </tr>\n",
       "  </tbody>\n",
       "</table>\n",
       "</div>"
      ],
      "text/plain": [
       "   author_id      author\n",
       "0          1  A.S. Byatt"
      ]
     },
     "execution_count": 4,
     "metadata": {},
     "output_type": "execute_result"
    }
   ],
   "source": [
    "authors = '''SELECT * FROM authors LIMIT 1'''\n",
    "\n",
    "con=engine.connect()\n",
    "pd.io.sql.read_sql(sql=text(authors), con = con)"
   ]
  },
  {
   "cell_type": "code",
   "execution_count": 5,
   "metadata": {},
   "outputs": [
    {
     "data": {
      "text/html": [
       "<div>\n",
       "<style scoped>\n",
       "    .dataframe tbody tr th:only-of-type {\n",
       "        vertical-align: middle;\n",
       "    }\n",
       "\n",
       "    .dataframe tbody tr th {\n",
       "        vertical-align: top;\n",
       "    }\n",
       "\n",
       "    .dataframe thead th {\n",
       "        text-align: right;\n",
       "    }\n",
       "</style>\n",
       "<table border=\"1\" class=\"dataframe\">\n",
       "  <thead>\n",
       "    <tr style=\"text-align: right;\">\n",
       "      <th></th>\n",
       "      <th>publisher_id</th>\n",
       "      <th>publisher</th>\n",
       "    </tr>\n",
       "  </thead>\n",
       "  <tbody>\n",
       "    <tr>\n",
       "      <th>0</th>\n",
       "      <td>1</td>\n",
       "      <td>Ace</td>\n",
       "    </tr>\n",
       "  </tbody>\n",
       "</table>\n",
       "</div>"
      ],
      "text/plain": [
       "   publisher_id publisher\n",
       "0             1       Ace"
      ]
     },
     "execution_count": 5,
     "metadata": {},
     "output_type": "execute_result"
    }
   ],
   "source": [
    "publishers = '''SELECT * FROM publishers LIMIT 1'''\n",
    "\n",
    "con=engine.connect()\n",
    "pd.io.sql.read_sql(sql=text(publishers), con = con)"
   ]
  },
  {
   "cell_type": "code",
   "execution_count": 6,
   "metadata": {},
   "outputs": [
    {
     "data": {
      "text/html": [
       "<div>\n",
       "<style scoped>\n",
       "    .dataframe tbody tr th:only-of-type {\n",
       "        vertical-align: middle;\n",
       "    }\n",
       "\n",
       "    .dataframe tbody tr th {\n",
       "        vertical-align: top;\n",
       "    }\n",
       "\n",
       "    .dataframe thead th {\n",
       "        text-align: right;\n",
       "    }\n",
       "</style>\n",
       "<table border=\"1\" class=\"dataframe\">\n",
       "  <thead>\n",
       "    <tr style=\"text-align: right;\">\n",
       "      <th></th>\n",
       "      <th>rating_id</th>\n",
       "      <th>book_id</th>\n",
       "      <th>username</th>\n",
       "      <th>rating</th>\n",
       "    </tr>\n",
       "  </thead>\n",
       "  <tbody>\n",
       "    <tr>\n",
       "      <th>0</th>\n",
       "      <td>1</td>\n",
       "      <td>1</td>\n",
       "      <td>ryanfranco</td>\n",
       "      <td>4</td>\n",
       "    </tr>\n",
       "  </tbody>\n",
       "</table>\n",
       "</div>"
      ],
      "text/plain": [
       "   rating_id  book_id    username  rating\n",
       "0          1        1  ryanfranco       4"
      ]
     },
     "execution_count": 6,
     "metadata": {},
     "output_type": "execute_result"
    }
   ],
   "source": [
    "ratings = '''SELECT * FROM ratings LIMIT 1'''\n",
    "\n",
    "con=engine.connect()\n",
    "pd.io.sql.read_sql(sql=text(ratings), con = con)"
   ]
  },
  {
   "cell_type": "code",
   "execution_count": 7,
   "metadata": {},
   "outputs": [
    {
     "data": {
      "text/html": [
       "<div>\n",
       "<style scoped>\n",
       "    .dataframe tbody tr th:only-of-type {\n",
       "        vertical-align: middle;\n",
       "    }\n",
       "\n",
       "    .dataframe tbody tr th {\n",
       "        vertical-align: top;\n",
       "    }\n",
       "\n",
       "    .dataframe thead th {\n",
       "        text-align: right;\n",
       "    }\n",
       "</style>\n",
       "<table border=\"1\" class=\"dataframe\">\n",
       "  <thead>\n",
       "    <tr style=\"text-align: right;\">\n",
       "      <th></th>\n",
       "      <th>review_id</th>\n",
       "      <th>book_id</th>\n",
       "      <th>username</th>\n",
       "      <th>text</th>\n",
       "    </tr>\n",
       "  </thead>\n",
       "  <tbody>\n",
       "    <tr>\n",
       "      <th>0</th>\n",
       "      <td>1</td>\n",
       "      <td>1</td>\n",
       "      <td>brandtandrea</td>\n",
       "      <td>Mention society tell send professor analysis. ...</td>\n",
       "    </tr>\n",
       "  </tbody>\n",
       "</table>\n",
       "</div>"
      ],
      "text/plain": [
       "   review_id  book_id      username  \\\n",
       "0          1        1  brandtandrea   \n",
       "\n",
       "                                                text  \n",
       "0  Mention society tell send professor analysis. ...  "
      ]
     },
     "execution_count": 7,
     "metadata": {},
     "output_type": "execute_result"
    }
   ],
   "source": [
    "reviews = '''SELECT * FROM reviews LIMIT 1'''\n",
    "\n",
    "con=engine.connect()\n",
    "pd.io.sql.read_sql(sql=text(reviews), con = con)"
   ]
  },
  {
   "cell_type": "markdown",
   "metadata": {},
   "source": [
    "## Анализ данных\n",
    "\n",
    "### Посчитаем, сколько книг вышло после 1 января 2000 года"
   ]
  },
  {
   "cell_type": "code",
   "execution_count": 8,
   "metadata": {},
   "outputs": [
    {
     "name": "stdout",
     "output_type": "stream",
     "text": [
      "Количество книг, вышедших после 1 января 2000 года: 819\n"
     ]
    }
   ],
   "source": [
    "task = '''SELECT COUNT(*) FROM books \n",
    "where CAST(publication_date as date) > '2000-01-01'\n",
    "'''\n",
    "\n",
    "con = engine.connect()\n",
    "task = pd.io.sql.read_sql(sql = text(task), con = con)\n",
    "print('Количество книг, вышедших после 1 января 2000 года:', int(task['count']) )"
   ]
  },
  {
   "cell_type": "markdown",
   "metadata": {},
   "source": [
    "После 2000 года количество выпущенных книг составило 819 штук"
   ]
  },
  {
   "cell_type": "markdown",
   "metadata": {},
   "source": [
    "## Для каждой книги посчитаем количество обзоров и среднюю оценку;"
   ]
  },
  {
   "cell_type": "code",
   "execution_count": 9,
   "metadata": {},
   "outputs": [
    {
     "name": "stdout",
     "output_type": "stream",
     "text": [
      "Оценка книг\n"
     ]
    },
    {
     "data": {
      "text/html": [
       "<div>\n",
       "<style scoped>\n",
       "    .dataframe tbody tr th:only-of-type {\n",
       "        vertical-align: middle;\n",
       "    }\n",
       "\n",
       "    .dataframe tbody tr th {\n",
       "        vertical-align: top;\n",
       "    }\n",
       "\n",
       "    .dataframe thead th {\n",
       "        text-align: right;\n",
       "    }\n",
       "</style>\n",
       "<table border=\"1\" class=\"dataframe\">\n",
       "  <thead>\n",
       "    <tr style=\"text-align: right;\">\n",
       "      <th></th>\n",
       "      <th>title</th>\n",
       "      <th>review</th>\n",
       "      <th>rating</th>\n",
       "    </tr>\n",
       "  </thead>\n",
       "  <tbody>\n",
       "    <tr>\n",
       "      <th>0</th>\n",
       "      <td>The Body in the Library (Miss Marple  #3)</td>\n",
       "      <td>2.0</td>\n",
       "      <td>4.50</td>\n",
       "    </tr>\n",
       "    <tr>\n",
       "      <th>1</th>\n",
       "      <td>Galápagos</td>\n",
       "      <td>2.0</td>\n",
       "      <td>4.50</td>\n",
       "    </tr>\n",
       "    <tr>\n",
       "      <th>2</th>\n",
       "      <td>A Tree Grows in Brooklyn</td>\n",
       "      <td>5.0</td>\n",
       "      <td>4.25</td>\n",
       "    </tr>\n",
       "    <tr>\n",
       "      <th>3</th>\n",
       "      <td>Undaunted Courage: The Pioneering First Missio...</td>\n",
       "      <td>2.0</td>\n",
       "      <td>4.00</td>\n",
       "    </tr>\n",
       "    <tr>\n",
       "      <th>4</th>\n",
       "      <td>The Prophet</td>\n",
       "      <td>4.0</td>\n",
       "      <td>4.29</td>\n",
       "    </tr>\n",
       "    <tr>\n",
       "      <th>...</th>\n",
       "      <td>...</td>\n",
       "      <td>...</td>\n",
       "      <td>...</td>\n",
       "    </tr>\n",
       "    <tr>\n",
       "      <th>995</th>\n",
       "      <td>Alice in Wonderland</td>\n",
       "      <td>4.0</td>\n",
       "      <td>4.23</td>\n",
       "    </tr>\n",
       "    <tr>\n",
       "      <th>996</th>\n",
       "      <td>A Woman of Substance (Emma Harte Saga #1)</td>\n",
       "      <td>2.0</td>\n",
       "      <td>5.00</td>\n",
       "    </tr>\n",
       "    <tr>\n",
       "      <th>997</th>\n",
       "      <td>Christine</td>\n",
       "      <td>3.0</td>\n",
       "      <td>3.43</td>\n",
       "    </tr>\n",
       "    <tr>\n",
       "      <th>998</th>\n",
       "      <td>The Magicians' Guild (Black Magician Trilogy  #1)</td>\n",
       "      <td>2.0</td>\n",
       "      <td>3.50</td>\n",
       "    </tr>\n",
       "    <tr>\n",
       "      <th>999</th>\n",
       "      <td>The Plot Against America</td>\n",
       "      <td>2.0</td>\n",
       "      <td>3.00</td>\n",
       "    </tr>\n",
       "  </tbody>\n",
       "</table>\n",
       "<p>1000 rows × 3 columns</p>\n",
       "</div>"
      ],
      "text/plain": [
       "                                                 title  review  rating\n",
       "0            The Body in the Library (Miss Marple  #3)     2.0    4.50\n",
       "1                                            Galápagos     2.0    4.50\n",
       "2                             A Tree Grows in Brooklyn     5.0    4.25\n",
       "3    Undaunted Courage: The Pioneering First Missio...     2.0    4.00\n",
       "4                                          The Prophet     4.0    4.29\n",
       "..                                                 ...     ...     ...\n",
       "995                                Alice in Wonderland     4.0    4.23\n",
       "996          A Woman of Substance (Emma Harte Saga #1)     2.0    5.00\n",
       "997                                          Christine     3.0    3.43\n",
       "998  The Magicians' Guild (Black Magician Trilogy  #1)     2.0    3.50\n",
       "999                           The Plot Against America     2.0    3.00\n",
       "\n",
       "[1000 rows x 3 columns]"
      ]
     },
     "metadata": {},
     "output_type": "display_data"
    }
   ],
   "source": [
    "task1 = '''SELECT title,review,rating\n",
    "   FROM books as b\n",
    "LEFT JOIN (SELECT book_id, count(review_id) as review\n",
    "          FROM reviews\n",
    "        GROUP BY  book_id) as re ON b.book_id=re.book_id\n",
    "LEFT JOIN (SELECT book_id,  ROUND(AVG(rating),2) as rating\n",
    "          FROM ratings\n",
    "        GROUP BY book_id ) as ra ON b.book_id=ra.book_id\n",
    "'''\n",
    "\n",
    "con = engine.connect()\n",
    "task = pd.io.sql.read_sql(sql = text(task1), con = con)\n",
    "print(\"Оценка книг\")\n",
    "display(task)"
   ]
  },
  {
   "cell_type": "markdown",
   "metadata": {},
   "source": [
    "**Мы нашли количество обзоров и средний рейтинг для каждой книги, с помощью данного списка можно определить самые рейтинговые и популярные книги среди людей.** "
   ]
  },
  {
   "cell_type": "markdown",
   "metadata": {},
   "source": [
    "## Определим издательство, которое выпустило наибольшее число книг толще 50 страниц — так мы исключим из анализа брошюры;"
   ]
  },
  {
   "cell_type": "code",
   "execution_count": 10,
   "metadata": {},
   "outputs": [
    {
     "name": "stdout",
     "output_type": "stream",
     "text": [
      "Издательство, которые выпустила наибольшее число книг толще 50: Penguin Books, количество книг 42\n"
     ]
    }
   ],
   "source": [
    "task = '''SELECT publisher,COUNT(*) as count\n",
    "   FROM books as b \n",
    "   LEFT JOIN publishers as p ON b.publisher_id = p.publisher_id\n",
    "        WHERE num_pages > 50\n",
    "    GROUP BY publisher ORDER BY count DESC LIMIT 1\n",
    "'''\n",
    "\n",
    "con = engine.connect()\n",
    "task = pd.io.sql.read_sql(sql = text(task), con = con)\n",
    "print(f\"Издательство, которые выпустила наибольшее число книг толще 50: {task['publisher'][0]}, количество книг {task['count'][0]}\")\n",
    "\n"
   ]
  },
  {
   "cell_type": "markdown",
   "metadata": {},
   "source": [
    "**Самым \"активным\", то есть выпускающим наибольшее количество, издельство среди книг является Penguin Books, в расчет мы не принимали брошюры. \n",
    "Достаточно интересный факт, надо также посмотреть и средний рейтинг, и популярность среди книголюбов. ВОзможно это хороший кандидат для включения в список издательств для нашего сервиса**"
   ]
  },
  {
   "cell_type": "markdown",
   "metadata": {},
   "source": [
    "## Определим автора с самой высокой средней оценкой книг — учитывайте только книги с 50 и более оценками;"
   ]
  },
  {
   "cell_type": "code",
   "execution_count": 11,
   "metadata": {},
   "outputs": [
    {
     "name": "stdout",
     "output_type": "stream",
     "text": [
      "Автор с самой высокой средней оценкой книг: J.K. Rowling/Mary GrandPré\n"
     ]
    }
   ],
   "source": [
    "task = '''SELECT author, AVG(rating) as rating\n",
    "   FROM books as b\n",
    "RIGHT JOIN (SELECT book_id\n",
    "          FROM ratings\n",
    "    GROUP BY book_id \n",
    "    HAVING count(rating_id)>=50) as p ON b.book_id=p.book_id\n",
    "LEFT JOIN authors a ON b.author_id = a.author_id\n",
    "LEFT JOIN ratings r ON r.book_id = b.book_id\n",
    "    GROUP BY author\n",
    "    ORDER BY rating DESC LIMIT 1   \n",
    "'''\n",
    "\n",
    "con = engine.connect()\n",
    "task = pd.io.sql.read_sql(sql = text(task), con = con)\n",
    "print(\"Автор с самой высокой средней оценкой книг:\", task['author'][0])"
   ]
  },
  {
   "cell_type": "markdown",
   "metadata": {},
   "source": [
    "**Самый большой рейтинг у автора  J.K. Rowling/Mary GrandPré, также мы рассмотривали количество оценок равно или больше 50. Можно смело сказать, что данных автор популярен среди остальных и его книги стоит добавить в наш сервис**"
   ]
  },
  {
   "cell_type": "markdown",
   "metadata": {},
   "source": [
    "## Посчитаем среднее количество обзоров от пользователей, которые поставили больше 48 оценок."
   ]
  },
  {
   "cell_type": "code",
   "execution_count": 12,
   "metadata": {},
   "outputs": [
    {
     "name": "stdout",
     "output_type": "stream",
     "text": [
      "Среднее количество обзоров от пользователей, которые поставили больше 48 оценок: 24.0\n"
     ]
    }
   ],
   "source": [
    "task = '''\n",
    "with a as (SELECT re.username , count(review_id) as review\n",
    " FROM reviews re\n",
    " RIGHT JOIN (SELECT username\n",
    "     FROM ratings\n",
    "    GROUP BY username HAVING COUNT(rating_id) > 48) as ra ON re.username = ra.username\n",
    " GROUP BY re.username)\n",
    " \n",
    "select avg(review) from a\n",
    "'''\n",
    "\n",
    "con = engine.connect()\n",
    "task = pd.io.sql.read_sql(sql = text(task), con = con)\n",
    "print(\"Среднее количество обзоров от пользователей, которые поставили больше 48 оценок:\", task['avg'][0])\n",
    "    "
   ]
  },
  {
   "cell_type": "markdown",
   "metadata": {},
   "source": [
    "**Сайт для оценки книг достаточно популярен и пользователи часто оставляют там свои оценки. Количество пользователей, которые оставили более 48 оценок - 24**"
   ]
  }
 ],
 "metadata": {
  "ExecuteTimeLog": [
   {
    "duration": 7604,
    "start_time": "2023-06-13T17:25:39.957Z"
   },
   {
    "duration": 2,
    "start_time": "2023-06-13T17:52:52.191Z"
   },
   {
    "duration": 93,
    "start_time": "2023-06-13T17:53:06.997Z"
   },
   {
    "duration": 13,
    "start_time": "2023-06-13T17:53:22.882Z"
   },
   {
    "duration": 13,
    "start_time": "2023-06-13T17:53:56.936Z"
   },
   {
    "duration": 4,
    "start_time": "2023-06-13T17:57:14.192Z"
   },
   {
    "duration": 4,
    "start_time": "2023-06-13T17:57:14.437Z"
   },
   {
    "duration": 130,
    "start_time": "2023-06-13T17:57:15.585Z"
   },
   {
    "duration": 116,
    "start_time": "2023-06-13T17:57:16.271Z"
   },
   {
    "duration": 12,
    "start_time": "2023-06-13T17:57:16.937Z"
   },
   {
    "duration": 15,
    "start_time": "2023-06-13T17:57:17.546Z"
   },
   {
    "duration": 13,
    "start_time": "2023-06-13T17:57:18.456Z"
   },
   {
    "duration": 15,
    "start_time": "2023-06-13T17:59:46.135Z"
   },
   {
    "duration": 15,
    "start_time": "2023-06-13T18:00:07.294Z"
   },
   {
    "duration": 14,
    "start_time": "2023-06-13T18:00:21.312Z"
   },
   {
    "duration": 15,
    "start_time": "2023-06-13T18:00:29.337Z"
   },
   {
    "duration": 20,
    "start_time": "2023-06-13T18:00:36.604Z"
   },
   {
    "duration": 11,
    "start_time": "2023-06-13T18:00:48.655Z"
   },
   {
    "duration": 11,
    "start_time": "2023-06-13T18:02:09.636Z"
   },
   {
    "duration": 9,
    "start_time": "2023-06-13T18:02:20.031Z"
   },
   {
    "duration": 252,
    "start_time": "2023-06-13T18:06:39.004Z"
   },
   {
    "duration": 150,
    "start_time": "2023-06-13T18:06:54.664Z"
   },
   {
    "duration": 181,
    "start_time": "2023-06-13T18:07:06.908Z"
   },
   {
    "duration": 24,
    "start_time": "2023-06-13T18:07:16.716Z"
   },
   {
    "duration": 33,
    "start_time": "2023-06-13T18:08:29.595Z"
   },
   {
    "duration": 25,
    "start_time": "2023-06-13T18:11:15.083Z"
   },
   {
    "duration": 26,
    "start_time": "2023-06-13T18:11:36.691Z"
   },
   {
    "duration": 73,
    "start_time": "2023-06-13T18:13:03.455Z"
   },
   {
    "duration": 25,
    "start_time": "2023-06-13T18:13:51.216Z"
   },
   {
    "duration": 339,
    "start_time": "2023-06-13T18:18:13.457Z"
   },
   {
    "duration": 32,
    "start_time": "2023-06-13T18:18:21.548Z"
   },
   {
    "duration": 29,
    "start_time": "2023-06-13T18:18:48.612Z"
   },
   {
    "duration": 83,
    "start_time": "2023-06-13T18:19:39.885Z"
   },
   {
    "duration": 33,
    "start_time": "2023-06-13T18:19:52.809Z"
   },
   {
    "duration": 91,
    "start_time": "2023-06-13T18:20:19.452Z"
   },
   {
    "duration": 43,
    "start_time": "2023-06-13T18:22:13.548Z"
   },
   {
    "duration": 16,
    "start_time": "2023-06-13T18:22:45.556Z"
   },
   {
    "duration": 86,
    "start_time": "2023-06-13T18:23:05.997Z"
   },
   {
    "duration": 14,
    "start_time": "2023-06-13T18:23:12.404Z"
   },
   {
    "duration": 23,
    "start_time": "2023-06-13T18:30:23.457Z"
   },
   {
    "duration": 30,
    "start_time": "2023-06-13T18:31:02.189Z"
   },
   {
    "duration": 1491,
    "start_time": "2023-06-13T18:31:19.811Z"
   },
   {
    "duration": 81,
    "start_time": "2023-06-13T18:31:37.800Z"
   },
   {
    "duration": 16,
    "start_time": "2023-06-13T18:31:55.752Z"
   },
   {
    "duration": 27,
    "start_time": "2023-06-13T18:32:03.361Z"
   },
   {
    "duration": 25,
    "start_time": "2023-06-13T18:32:06.744Z"
   },
   {
    "duration": 45,
    "start_time": "2023-06-13T18:38:08.511Z"
   },
   {
    "duration": 13,
    "start_time": "2023-06-13T18:38:36.972Z"
   },
   {
    "duration": 15,
    "start_time": "2023-06-13T18:39:02.143Z"
   },
   {
    "duration": 45,
    "start_time": "2023-06-13T18:41:50.729Z"
   },
   {
    "duration": 680,
    "start_time": "2023-06-13T18:50:00.703Z"
   },
   {
    "duration": 12262,
    "start_time": "2023-06-13T18:50:01.386Z"
   },
   {
    "duration": 54,
    "start_time": "2023-06-13T18:50:13.655Z"
   },
   {
    "duration": 69,
    "start_time": "2023-06-13T18:50:13.711Z"
   },
   {
    "duration": 17,
    "start_time": "2023-06-13T18:50:13.783Z"
   },
   {
    "duration": 22,
    "start_time": "2023-06-13T18:50:13.803Z"
   },
   {
    "duration": 27,
    "start_time": "2023-06-13T18:50:13.827Z"
   },
   {
    "duration": 21,
    "start_time": "2023-06-13T18:50:13.856Z"
   },
   {
    "duration": 31,
    "start_time": "2023-06-13T18:50:13.879Z"
   },
   {
    "duration": 19,
    "start_time": "2023-06-13T18:50:13.912Z"
   },
   {
    "duration": 69,
    "start_time": "2023-06-13T18:50:13.938Z"
   },
   {
    "duration": 13,
    "start_time": "2023-06-13T18:50:14.010Z"
   },
   {
    "duration": 489,
    "start_time": "2023-06-15T05:47:15.213Z"
   },
   {
    "duration": 7794,
    "start_time": "2023-06-15T05:47:15.710Z"
   },
   {
    "duration": 188,
    "start_time": "2023-06-15T05:47:23.506Z"
   },
   {
    "duration": 46,
    "start_time": "2023-06-15T05:47:23.695Z"
   },
   {
    "duration": 10,
    "start_time": "2023-06-15T05:47:23.743Z"
   },
   {
    "duration": 12,
    "start_time": "2023-06-15T05:47:23.754Z"
   },
   {
    "duration": 25,
    "start_time": "2023-06-15T05:47:23.767Z"
   },
   {
    "duration": 10,
    "start_time": "2023-06-15T05:47:23.794Z"
   },
   {
    "duration": 35,
    "start_time": "2023-06-15T05:47:24.046Z"
   },
   {
    "duration": 140,
    "start_time": "2023-06-15T05:47:27.482Z"
   },
   {
    "duration": 538,
    "start_time": "2023-06-15T07:06:28.042Z"
   },
   {
    "duration": 20479,
    "start_time": "2023-06-15T07:06:28.582Z"
   },
   {
    "duration": 97,
    "start_time": "2023-06-15T07:06:49.063Z"
   },
   {
    "duration": 80,
    "start_time": "2023-06-15T07:06:49.162Z"
   },
   {
    "duration": 9,
    "start_time": "2023-06-15T07:06:49.244Z"
   },
   {
    "duration": 10,
    "start_time": "2023-06-15T07:06:49.254Z"
   },
   {
    "duration": 60,
    "start_time": "2023-06-15T07:06:49.265Z"
   },
   {
    "duration": 9,
    "start_time": "2023-06-15T07:06:49.326Z"
   },
   {
    "duration": 21,
    "start_time": "2023-06-15T07:06:49.336Z"
   },
   {
    "duration": 40,
    "start_time": "2023-06-15T07:06:49.358Z"
   },
   {
    "duration": 27,
    "start_time": "2023-06-15T07:06:49.400Z"
   },
   {
    "duration": 12,
    "start_time": "2023-06-15T07:09:35.148Z"
   },
   {
    "duration": 91,
    "start_time": "2023-06-15T07:09:49.425Z"
   },
   {
    "duration": 34,
    "start_time": "2023-06-15T07:10:20.289Z"
   },
   {
    "duration": 99,
    "start_time": "2023-06-15T07:10:51.121Z"
   },
   {
    "duration": 110,
    "start_time": "2023-06-15T07:11:06.025Z"
   },
   {
    "duration": 1843,
    "start_time": "2023-06-15T07:11:25.489Z"
   },
   {
    "duration": 90,
    "start_time": "2023-06-15T07:11:35.931Z"
   },
   {
    "duration": 39,
    "start_time": "2023-06-15T07:11:42.982Z"
   },
   {
    "duration": 12,
    "start_time": "2023-06-15T07:14:53.736Z"
   },
   {
    "duration": 45,
    "start_time": "2023-06-15T07:15:07.083Z"
   },
   {
    "duration": 13,
    "start_time": "2023-06-15T07:15:53.018Z"
   },
   {
    "duration": 11,
    "start_time": "2023-06-15T07:16:07.210Z"
   },
   {
    "duration": 11,
    "start_time": "2023-06-15T07:16:21.624Z"
   },
   {
    "duration": 60,
    "start_time": "2023-06-15T07:16:46.664Z"
   },
   {
    "duration": 45,
    "start_time": "2023-06-15T07:16:56.787Z"
   },
   {
    "duration": 51,
    "start_time": "2023-06-15T07:17:08.867Z"
   },
   {
    "duration": 11,
    "start_time": "2023-06-15T07:17:29.207Z"
   },
   {
    "duration": 12,
    "start_time": "2023-06-15T07:19:57.536Z"
   },
   {
    "duration": 464,
    "start_time": "2023-06-15T09:21:57.736Z"
   },
   {
    "duration": 7251,
    "start_time": "2023-06-15T09:21:58.205Z"
   },
   {
    "duration": 84,
    "start_time": "2023-06-15T09:22:05.458Z"
   },
   {
    "duration": 63,
    "start_time": "2023-06-15T09:22:05.543Z"
   },
   {
    "duration": 10,
    "start_time": "2023-06-15T09:22:05.608Z"
   },
   {
    "duration": 14,
    "start_time": "2023-06-15T09:22:05.619Z"
   },
   {
    "duration": 33,
    "start_time": "2023-06-15T09:22:05.635Z"
   },
   {
    "duration": 7,
    "start_time": "2023-06-15T09:22:05.670Z"
   },
   {
    "duration": 75,
    "start_time": "2023-06-15T09:22:05.678Z"
   },
   {
    "duration": 26,
    "start_time": "2023-06-15T09:22:05.755Z"
   },
   {
    "duration": 12,
    "start_time": "2023-06-15T09:22:12.533Z"
   },
   {
    "duration": 11,
    "start_time": "2023-06-15T09:22:26.369Z"
   },
   {
    "duration": 585,
    "start_time": "2023-06-16T09:48:27.247Z"
   },
   {
    "duration": 8258,
    "start_time": "2023-06-16T09:48:27.834Z"
   },
   {
    "duration": 53,
    "start_time": "2023-06-16T09:48:36.093Z"
   },
   {
    "duration": 32,
    "start_time": "2023-06-16T09:48:36.147Z"
   },
   {
    "duration": 9,
    "start_time": "2023-06-16T09:48:36.181Z"
   },
   {
    "duration": 16,
    "start_time": "2023-06-16T09:48:36.191Z"
   },
   {
    "duration": 18,
    "start_time": "2023-06-16T09:48:36.208Z"
   },
   {
    "duration": 10,
    "start_time": "2023-06-16T09:48:43.071Z"
   },
   {
    "duration": 23,
    "start_time": "2023-06-16T09:48:44.527Z"
   },
   {
    "duration": 13,
    "start_time": "2023-06-16T09:48:45.767Z"
   },
   {
    "duration": 68,
    "start_time": "2023-06-16T09:49:43.548Z"
   },
   {
    "duration": 11,
    "start_time": "2023-06-16T09:49:51.991Z"
   },
   {
    "duration": 12,
    "start_time": "2023-06-16T09:50:35.923Z"
   },
   {
    "duration": 94,
    "start_time": "2023-06-16T09:51:15.863Z"
   },
   {
    "duration": 12,
    "start_time": "2023-06-16T09:52:00.371Z"
   },
   {
    "duration": 51,
    "start_time": "2023-06-16T09:53:14.646Z"
   },
   {
    "duration": 20,
    "start_time": "2023-06-16T09:53:22.432Z"
   },
   {
    "duration": 48,
    "start_time": "2023-06-16T09:53:30.864Z"
   },
   {
    "duration": 43,
    "start_time": "2023-06-16T09:53:39.151Z"
   },
   {
    "duration": 13,
    "start_time": "2023-06-16T09:54:12.524Z"
   },
   {
    "duration": 1017,
    "start_time": "2023-06-16T09:54:34.320Z"
   },
   {
    "duration": 9,
    "start_time": "2023-06-16T09:54:45.420Z"
   },
   {
    "duration": 12,
    "start_time": "2023-06-16T09:54:58.302Z"
   },
   {
    "duration": 12,
    "start_time": "2023-06-16T09:55:00.572Z"
   },
   {
    "duration": 544,
    "start_time": "2023-06-16T09:55:13.166Z"
   },
   {
    "duration": 7571,
    "start_time": "2023-06-16T09:55:13.713Z"
   },
   {
    "duration": 39,
    "start_time": "2023-06-16T09:55:21.286Z"
   },
   {
    "duration": 36,
    "start_time": "2023-06-16T09:55:21.327Z"
   },
   {
    "duration": 11,
    "start_time": "2023-06-16T09:55:21.365Z"
   },
   {
    "duration": 9,
    "start_time": "2023-06-16T09:55:21.378Z"
   },
   {
    "duration": 10,
    "start_time": "2023-06-16T09:55:21.389Z"
   },
   {
    "duration": 7,
    "start_time": "2023-06-16T09:55:21.400Z"
   },
   {
    "duration": 21,
    "start_time": "2023-06-16T09:55:21.408Z"
   },
   {
    "duration": 30,
    "start_time": "2023-06-16T09:55:21.432Z"
   },
   {
    "duration": 13,
    "start_time": "2023-06-16T09:55:21.464Z"
   },
   {
    "duration": 9,
    "start_time": "2023-06-16T09:55:21.479Z"
   }
  ],
  "kernelspec": {
   "display_name": "Python 3 (ipykernel)",
   "language": "python",
   "name": "python3"
  },
  "language_info": {
   "codemirror_mode": {
    "name": "ipython",
    "version": 3
   },
   "file_extension": ".py",
   "mimetype": "text/x-python",
   "name": "python",
   "nbconvert_exporter": "python",
   "pygments_lexer": "ipython3",
   "version": "3.9.5"
  },
  "toc": {
   "base_numbering": 1,
   "nav_menu": {},
   "number_sections": true,
   "sideBar": true,
   "skip_h1_title": true,
   "title_cell": "Table of Contents",
   "title_sidebar": "Contents",
   "toc_cell": false,
   "toc_position": {},
   "toc_section_display": true,
   "toc_window_display": false
  }
 },
 "nbformat": 4,
 "nbformat_minor": 2
}
